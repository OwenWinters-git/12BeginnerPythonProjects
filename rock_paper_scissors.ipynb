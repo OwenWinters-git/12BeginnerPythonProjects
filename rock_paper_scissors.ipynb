{
 "cells": [
  {
   "cell_type": "code",
   "execution_count": 4,
   "id": "e429b025",
   "metadata": {},
   "outputs": [
    {
     "name": "stdout",
     "output_type": "stream",
     "text": [
      "'r' for rock, 'p' for paper, 's' for scissorsr\n",
      "Computer chose r\n"
     ]
    },
    {
     "data": {
      "text/plain": [
       "'tie'"
      ]
     },
     "execution_count": 4,
     "metadata": {},
     "output_type": "execute_result"
    }
   ],
   "source": [
    "import random\n",
    "def play():\n",
    "    user = input(\"'r' for rock, 'p' for paper, 's' for scissors\")\n",
    "    computer = random.choice(['r','p','s'])\n",
    "    print(f'Computer chose {computer}')\n",
    "    \n",
    "    if user == computer:\n",
    "        return 'tie'\n",
    "    \n",
    "    if is_win(user, computer):\n",
    "        return 'you won!'\n",
    "    \n",
    "    return 'you lost!'\n",
    "\n",
    "def is_win(player, opponent):\n",
    "    if (player == 'r' and opponent =='s') or (player == 's' and opponent == 'p') \\\n",
    "    or (player == 'p' and opponent =='r'):\n",
    "        return true\n",
    "play()"
   ]
  },
  {
   "cell_type": "code",
   "execution_count": null,
   "id": "a36d2090",
   "metadata": {},
   "outputs": [],
   "source": []
  }
 ],
 "metadata": {
  "kernelspec": {
   "display_name": "Python 3",
   "language": "python",
   "name": "python3"
  },
  "language_info": {
   "codemirror_mode": {
    "name": "ipython",
    "version": 3
   },
   "file_extension": ".py",
   "mimetype": "text/x-python",
   "name": "python",
   "nbconvert_exporter": "python",
   "pygments_lexer": "ipython3",
   "version": "3.8.8"
  }
 },
 "nbformat": 4,
 "nbformat_minor": 5
}
